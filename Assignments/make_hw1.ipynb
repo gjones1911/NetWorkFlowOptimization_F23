{
  "cells": [
    {
      "cell_type": "code",
      "metadata": {
        "jukit_cell_id": "yzzIMpqGrN"
      },
      "source": [],
      "outputs": [],
      "execution_count": null
    },
    {
      "cell_type": "markdown",
      "metadata": {
        "jukit_cell_id": "e4Gj7V90gj"
      },
      "source": [
        "# Homework 1 #"
      ]
    },
    {
      "cell_type": "code",
      "metadata": {
        "jukit_cell_id": "A8gZt60kAZ"
      },
      "source": [
        "import random\n",
        "import networkx as mx\n",
        "\n",
        "n = 100\n",
        "m = 50\n",
        "all_edges = [(i, j) for i in range(n) for j in range(i + 1, n)]\n",
        "\n",
        "random.seed(604)\n",
        "edge_list = random.sample(all_edges, m)\n",
        "print(edge_list)\n",
        "\n",
        "# G_random = nx.Graph()\n",
        "# G_random.add_edges_from(random.sample(all_edges, m))"
      ],
      "outputs": [
        {
          "output_type": "stream",
          "name": "stdout",
          "text": "[(5, 46), (18, 51), (39, 72), (37, 47), (76, 94), (35, 37), (40, 91), (52, 69), (28, 50), (59, 75), (17, 30), (10, 18), (61, 67), (37, 74), (57, 87), (35, 78), (29, 37), (30, 92), (40, 69), (2, 77), (4, 7), (53, 68), (66, 80), (50, 90), (44, 75), (52, 64), (32, 92), (3, 8), (54, 58), (5, 36), (65, 83), (32, 73), (2, 90), (13, 28), (59, 99), (1, 27), (55, 59), (39, 50), (20, 61), (53, 83), (43, 51), (5, 20), (39, 65), (82, 90), (15, 79), (42, 98), (18, 53), (52, 65), (24, 66), (36, 52)]\n"
        }
      ],
      "execution_count": 1
    },
    {
      "cell_type": "markdown",
      "metadata": {
        "jukit_cell_id": "gyRJdl0R09"
      },
      "source": [
        "Create the Forward-star adjacency list for the graph given by the edge_list above."
      ]
    },
    {
      "cell_type": "code",
      "metadata": {
        "jukit_cell_id": "g2fLHU6j9N"
      },
      "source": [],
      "outputs": [],
      "execution_count": null
    }
  ],
  "metadata": {
    "anaconda-cloud": {},
    "kernelspec": {
      "display_name": "python",
      "language": "python",
      "name": "python3"
    }
  },
  "nbformat": 4,
  "nbformat_minor": 4
}