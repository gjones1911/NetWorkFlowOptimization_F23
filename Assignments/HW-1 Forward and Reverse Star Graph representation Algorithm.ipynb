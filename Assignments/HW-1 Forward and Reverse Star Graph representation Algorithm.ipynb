{
 "cells": [
  {
   "cell_type": "markdown",
   "id": "6081c5b6",
   "metadata": {},
   "source": [
    "# HW 1: Network Flow Optimization\n",
    "## Gerald Jones\n",
    "## Fall 2023\n",
    "## Purpose: Implement the Forward and Reverse star graph algorithms"
   ]
  },
  {
   "cell_type": "code",
   "execution_count": 3,
   "id": "8c5f25f6",
   "metadata": {},
   "outputs": [],
   "source": [
    "import networkx as nx\n",
    "import matplotlib.pyplot as plt\n",
    "import numpy as np\n",
    "import pandas as pd"
   ]
  },
  {
   "cell_type": "code",
   "execution_count": 4,
   "id": "e72ba29e",
   "metadata": {},
   "outputs": [],
   "source": [
    "#############################################################################################################\n",
    "############################################ Method Definitions  ############################################\n",
    "#############################################################################################################\n",
    "\n",
    "#############################################################################################################\n",
    "########################################### edge generator\n",
    "def generateEdges(N, E):\n",
    "    # get a randomized list of edges\n",
    "    RNGedges = np.random.choice(range(N), N, replace=False)\n",
    "    edges = []\n",
    "    \n",
    "    # while we have not created enough edges\n",
    "    while(len(edges) < E):\n",
    "        # pick a random node (tail)\n",
    "        tn = int(np.random.choice(range(N), 1, replace=False))\n",
    "        \n",
    "        # pick a random node for the head and make sure we don't make loops\n",
    "        hn = int(tn)\n",
    "        # make sure the head node is not the tail node (loop)\n",
    "        while hn == tn:\n",
    "            tn = int(np.random.choice(range(N), 1, replace=False))\n",
    "        # now add this edge to the edge list\n",
    "        if (tn, hn) not in edges:\n",
    "            edges.append((tn, hn))\n",
    "    return edges\n",
    "\n",
    "\n",
    "#############################################################################################################\n",
    "############################### Graph making tools\n",
    "def generateGraph(Graph: nx.Graph, nodes: list, edges: list):\n",
    "    Graph.add_nodes_from(nodes)\n",
    "    Graph.add_edges_from(edges)\n",
    "    \n",
    "def showGraph(G, axisPosition, options):\n",
    "    subax = plt.subplot(axisPosition)\n",
    "#     nx.draw(G, with_labels=True, font_weight=\"bold\")\n",
    "    nx.draw(G, **options)\n",
    "    \n",
    "#############################################################################################################    \n",
    "############################### Graph alogorithms\n",
    "def forwardStarG(N, edges, **kwargs):\n",
    "    # set up list of index pointers using nans as \n",
    "    # sentinel values for no incoming edges\n",
    "    pointers = np.full(N, np.nan)\n",
    "    count = []\n",
    "    c = 0\n",
    "    # create sorted list of edges by the tails\n",
    "    edges_sorted = sorted(edges, key=lambda x: x[0])\n",
    "    node = np.inf    # initial node with place holder value\n",
    "    \n",
    "    # for every edge in the list \n",
    "    # go through and look for the tail node to change\n",
    "    # when found store the current incrment value which represents\n",
    "    # the index into the edge list where a new nodes edges begin\n",
    "    for index, edge in enumerate(edges_sorted):\n",
    "        # when the tail node changes \n",
    "        # store the index where the new nodes edges start\n",
    "        if edge[0] != node:\n",
    "            node = edge[0]\n",
    "            pointers[node] = int(index)\n",
    "    return edges_sorted, list(pointers), count\n",
    "\n",
    "\n",
    "def reverseStarG(N, edges, **kwargs):\n",
    "    # set up list of index pointers using nans as \n",
    "    # sentinel values for no incoming edges\n",
    "    pointers = np.full(N, np.nan)\n",
    "\n",
    "    # create sorted list of edges by the heads\n",
    "    edges_sorted = sorted(edges, key=lambda x: x[1])\n",
    "    index = 0   \n",
    "    node = np.inf    # initial node\n",
    "    \n",
    "    # for every edge in the list \n",
    "    # go through and look for the head node to change\n",
    "    # when found store the current increment value which represents\n",
    "    # the index into the edge list where a new nodes edges begin\n",
    "    for index, edge in enumerate(edges_sorted):\n",
    "\n",
    "        # when the tail node changes \n",
    "        # store the index where the new nodes edges start\n",
    "        if edge[1] != node:\n",
    "            node = edge[1]\n",
    "            pointers[node] = index\n",
    "    return edges_sorted, pointers, count\n",
    "\n",
    "\n"
   ]
  },
  {
   "cell_type": "markdown",
   "id": "86b805fc",
   "metadata": {},
   "source": [
    "# Create test Graph"
   ]
  },
  {
   "cell_type": "code",
   "execution_count": 13,
   "id": "09cd30e4",
   "metadata": {},
   "outputs": [
    {
     "name": "stdout",
     "output_type": "stream",
     "text": [
      "edge-0: (8, 9)\n",
      "edge-1: (8, 3)\n",
      "edge-2: (0, 3)\n",
      "edge-3: (9, 2)\n",
      "edge-4: (4, 3)\n",
      "edge-5: (4, 7)\n",
      "edge-6: (9, 7)\n",
      "edge-7: (7, 0)\n",
      "edge-8: (9, 8)\n",
      "edge-9: (0, 7)\n",
      "edge-10: (2, 0)\n",
      "edge-11: (1, 9)\n",
      "edge-12: (8, 0)\n",
      "edge-13: (7, 1)\n",
      "edge-14: (7, 3)\n",
      "edge-15: (7, 6)\n",
      "edge-16: (0, 2)\n",
      "edge-17: (5, 1)\n",
      "edge-18: (5, 8)\n",
      "edge-19: (3, 7)\n"
     ]
    },
    {
     "data": {
      "image/png": "[encoded data removed]",
      "text/plain": [
       "<Figure size 432x288 with 1 Axes>"
      ]
     },
     "metadata": {},
     "output_type": "display_data"
    }
   ],
   "source": [
    "N = 10      # number of nodes named lexographically\n",
    "E = 20      # number of edges to create\n",
    "\n",
    "# # # # create the edges\n",
    "edges = generateEdges(N, E)\n",
    "\n",
    "# # # # create the nodes as a list\n",
    "nodes = list(range(N))\n",
    "\n",
    "# # # # Check out the edges to see if they make some sense\n",
    "for i,e in enumerate(edges):\n",
    "    print(f\"edge-{i}: {e}\")\n",
    "    \n",
    "\n",
    "# create a di-graph so we can visualize it with networkx and pyplot\n",
    "toyG = nx.DiGraph()\n",
    "generateGraph(toyG, nodes, edges)\n",
    "\n",
    "# set up some visualization options for the plot\n",
    "options = {\n",
    "    'node_color': 'teal',\n",
    "    'node_size': 500,\n",
    "    'width': 3,\n",
    "    'with_labels':True, \n",
    "    'font_weight':\"bold\"\n",
    "}\n",
    "\n",
    "showGraph(toyG, 111, options)"
   ]
  },
  {
   "cell_type": "markdown",
   "id": "268436f4",
   "metadata": {},
   "source": [
    "# Forward and Reverse Start Testing"
   ]
  },
  {
   "cell_type": "code",
   "execution_count": 14,
   "id": "bb43d956",
   "metadata": {},
   "outputs": [
    {
     "name": "stdout",
     "output_type": "stream",
     "text": [
      "forward star:\n",
      "|   0  |   1   |   2   |   3   |\n",
      "[(0, 3), (0, 7), (0, 2), (1, 9), (2, 0), (3, 7), (4, 3), (4, 7), (5, 1), (5, 8), (7, 0), (7, 1), (7, 3), (7, 6), (8, 9), (8, 3), (8, 0), (9, 2), (9, 7), (9, 8)]\n",
      "[0.0, 3.0, 4.0, 5.0, 6.0, 8.0, nan, 10.0, 14.0, 17.0]\n",
      "[]\n"
     ]
    }
   ],
   "source": [
    "edges_sorted, pointers, count = forwardStarG(N, edges)\n",
    "print(\"forward star:\")\n",
    "print(\"|   0  |   1   |   2   |   3   |\")\n",
    "print(edges_sorted)\n",
    "print(pointers)\n",
    "print(count)"
   ]
  },
  {
   "cell_type": "code",
   "execution_count": 15,
   "id": "f52d70a7",
   "metadata": {},
   "outputs": [
    {
     "name": "stdout",
     "output_type": "stream",
     "text": [
      "\n",
      "reverse star:\n",
      "|   0  |   1   |   2   |   3   |\n",
      "[(7, 0), (2, 0), (8, 0), (7, 1), (5, 1), (9, 2), (0, 2), (8, 3), (0, 3), (4, 3), (7, 3), (7, 6), (4, 7), (9, 7), (0, 7), (3, 7), (9, 8), (5, 8), (8, 9), (1, 9)]\n",
      "[ 0.  3.  5.  7. nan nan 11. 12. 16. 18.]\n",
      "[]\n"
     ]
    }
   ],
   "source": [
    "edges_sorted, pointers, count = reverseStarG(N, edges)\n",
    "print(\"\\nreverse star:\")\n",
    "print(\"|   0  |   1   |   2   |   3   |\")\n",
    "print(edges_sorted)\n",
    "print(pointers)\n",
    "print(count)"
   ]
  },
  {
   "cell_type": "code",
   "execution_count": 9,
   "id": "40d86928",
   "metadata": {},
   "outputs": [
    {
     "data": {
      "text/plain": [
       "(4, 1)"
      ]
     },
     "execution_count": 9,
     "metadata": {},
     "output_type": "execute_result"
    }
   ],
   "source": [
    "max(edges)"
   ]
  }
 ],
 "metadata": {
  "kernelspec": {
   "display_name": "Python 3 (ipykernel)",
   "language": "python",
   "name": "python3"
  },
  "language_info": {
   "codemirror_mode": {
    "name": "ipython",
    "version": 3
   },
   "file_extension": ".py",
   "mimetype": "text/x-python",
   "name": "python",
   "nbconvert_exporter": "python",
   "pygments_lexer": "ipython3",
   "version": "3.10.5"
  }
 },
 "nbformat": 4,
 "nbformat_minor": 5
}
