{
 "cells": [
  {
   "cell_type": "code",
   "execution_count": 1,
   "metadata": {},
   "outputs": [],
   "source": [
    "import networkx as nx\n",
    "\n",
    "\n",
    "# Create Empty Graph\n",
    "G = nx.Graph()"
   ]
  },
  {
   "cell_type": "code",
   "execution_count": null,
   "metadata": {},
   "outputs": [],
   "source": [
    "def generateGraph(Graph: nx.Graph, nodes: list, edges: list):\n",
    "    Graph.add_nodes_from(nodes)\n",
    "    Graph.add_edges_from(edges)\n",
    "    \n",
    "    \n",
    "    \n",
    "nodes = [\n",
    "    (\"A\", {\"\":\"\"}),\n",
    "    (\"B\", {\"\":\"\"}),\n",
    "    (\"C\", {\"\":\"\"}),\n",
    "    (\"D\", {\"\":\"\"}),\n",
    "    (\"A\", {\"\":\"\"}),\n",
    "]"
   ]
  },
  {
   "cell_type": "code",
   "execution_count": null,
   "metadata": {},
   "outputs": [],
   "source": []
  }
 ],
 "metadata": {
  "kernelspec": {
   "display_name": "Python 3 (ipykernel)",
   "language": "python",
   "name": "python3"
  },
  "language_info": {
   "codemirror_mode": {
    "name": "ipython",
    "version": 3
   },
   "file_extension": ".py",
   "mimetype": "text/x-python",
   "name": "python",
   "nbconvert_exporter": "python",
   "pygments_lexer": "ipython3",
   "version": "3.10.5"
  }
 },
 "nbformat": 4,
 "nbformat_minor": 2
}
